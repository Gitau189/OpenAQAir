{
 "cells": [
  {
   "cell_type": "code",
   "execution_count": null,
   "metadata": {},
   "outputs": [],
   "source": [
    "import pandas as pd\n",
    "import numpy as np\n",
    "import matplotlib as plt\n",
    "import seaborn as sns"
   ]
  },
  {
   "cell_type": "code",
   "execution_count": null,
   "metadata": {},
   "outputs": [],
   "source": [
    "lublin=pd.read_csv(\"Lublin_20_February_2024_to_20_March_2024.csv\")\n",
    "Malkia=pd.read_csv(\"Malkia_Nakuru_20_February_2024_to_20_March_2024.csv\")\n",
    "Nyayo=pd.read_csv(\"Nyayo_Embakasi_Nairobi_20_February_2024_to_20_March_2024.csv\")\n",
    "Ogada=pd.read_csv(\"Ogada_Obubra_20_February_2024_to_20_March_2024.csv\")\n",
    "Ogada"
   ]
  },
  {
   "cell_type": "markdown",
   "metadata": {},
   "source": [
    "Basic data inspection and cleaning: Handling missing values, duplicate entries, and data types."
   ]
  },
  {
   "cell_type": "code",
   "execution_count": null,
   "metadata": {},
   "outputs": [],
   "source": [
    "#lublin.describe(include='all')\n",
    "lublin.info()\n",
    "#lublin.isnull().values.any()\n",
    "#lublin.duplicated().any()\n",
    "lublin.dropna(axis=1, inplace=True)"
   ]
  },
  {
   "cell_type": "code",
   "execution_count": null,
   "metadata": {},
   "outputs": [],
   "source": [
    "Malkia.describe(include='all')\n",
    "Malkia.info()\n",
    "Malkia.isnull().values.any()\n",
    "Malkia.duplicated().any()\n",
    "Malkia.dropna(axis=1, inplace=True)\n",
    "Malkia.isnull().values.any()"
   ]
  },
  {
   "cell_type": "code",
   "execution_count": null,
   "metadata": {},
   "outputs": [],
   "source": [
    "Ogada.describe(include='all')\n",
    "Ogada.info()\n",
    "Ogada.isnull().values.any()\n",
    "Ogada.dropna(axis=1, inplace=True)  # drops columns with any null values\n",
    "Ogada.duplicated().any()\n",
    "Ogada\n",
    "Ogada.isnull().values.any()"
   ]
  },
  {
   "cell_type": "markdown",
   "metadata": {},
   "source": [
    "check the shape of all dataframes as we will need to merge them "
   ]
  },
  {
   "cell_type": "code",
   "execution_count": null,
   "metadata": {},
   "outputs": [],
   "source": [
    "Malkia.shape, lublin.shape, Nyayo.shape, Ogada.shape"
   ]
  },
  {
   "cell_type": "code",
   "execution_count": null,
   "metadata": {},
   "outputs": [],
   "source": [
    "sns.set()\n",
    "sns.jointplot(x=lublin.parameter, y=lublin.parameter, kind='reg', height=4), \n",
    "sns.jointplot(x=Nyayo.parameter, y=Nyayo.parameter, kind='reg', height=4)\n",
    "sns.jointplot(x=Ogada.parameter, y=Ogada.parameter, kind='reg', height=4)\n",
    "sns.jointplot(x=Malkia.parameter, y=Malkia.parameter, kind='reg', height=4)\n",
    "\n",
    "plt.show()"
   ]
  }
 ],
 "metadata": {
  "kernelspec": {
   "display_name": "Python 3",
   "language": "python",
   "name": "python3"
  },
  "language_info": {
   "name": "python",
   "version": "3.12.2"
  }
 },
 "nbformat": 4,
 "nbformat_minor": 2
}
